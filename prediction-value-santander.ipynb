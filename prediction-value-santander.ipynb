{
 "cells": [
  {
   "cell_type": "markdown",
   "metadata": {},
   "source": [
    "# Santander Value Prediction Challenge\n",
    "### Predict the value of transactions for potential customers\n",
    "\n",
    "## Description\n",
    "\n",
    "According to Epsilon research, 80% of customers are more likely to do business with you if you provide personalized service. Banking is no exception.\n",
    "\n",
    "The digitalization of everyday lives means that customers expect services to be delivered in a personalized and timely manner… and often before they´ve even realized they need the service. In their 3rd Kaggle competition, Santander Group aims to go a step beyond recognizing that there is a need to provide a customer a financial service and intends to determine the amount or value of the customer's transaction. This means anticipating customer needs in a more concrete, but also simple and personal way. With so many choices for financial services, this need is greater now than ever before.\n",
    "\n",
    "In this competition, Santander Group is asking Kagglers to help them identify the value of transactions for each potential customer. This is a first step that Santander needs to nail in order to personalize their services at scale."
   ]
  },
  {
   "cell_type": "code",
   "execution_count": 1,
   "metadata": {},
   "outputs": [],
   "source": [
    "# Libraries\n",
    "import pandas as pd\n",
    "import numpy as np\n",
    "import matplotlib.pyplot as plt\n",
    "import os\n",
    "import seaborn as sns\n",
    "\n",
    "# Data files\n",
    "DATA_DIR = 'input/santander'\n",
    "file_dir = {'test': os.path.join(DATA_DIR, 'test.csv'),\n",
    "              'train': os.path.join(DATA_DIR, 'train.csv')}"
   ]
  },
  {
   "cell_type": "code",
   "execution_count": 2,
   "metadata": {},
   "outputs": [
    {
     "name": "stdout",
     "output_type": "stream",
     "text": [
      "Wall time: 3.13 s\n"
     ]
    }
   ],
   "source": [
    "%%time\n",
    "# CSV Files\n",
    "train = pd.read_csv(file_dir['train'])\n",
    "train.head()"
   ]
  },
  {
   "cell_type": "code",
   "execution_count": 3,
   "metadata": {},
   "outputs": [
    {
     "data": {
      "text/html": [
       "<div>\n",
       "<style>\n",
       "    .dataframe thead tr:only-child th {\n",
       "        text-align: right;\n",
       "    }\n",
       "\n",
       "    .dataframe thead th {\n",
       "        text-align: left;\n",
       "    }\n",
       "\n",
       "    .dataframe tbody tr th {\n",
       "        vertical-align: top;\n",
       "    }\n",
       "</style>\n",
       "<table border=\"1\" class=\"dataframe\">\n",
       "  <thead>\n",
       "    <tr style=\"text-align: right;\">\n",
       "      <th></th>\n",
       "      <th>48df886f9</th>\n",
       "      <th>0deb4b6a8</th>\n",
       "      <th>34b15f335</th>\n",
       "      <th>a8cb14b00</th>\n",
       "      <th>2f0771a37</th>\n",
       "      <th>30347e683</th>\n",
       "      <th>d08d1fbe3</th>\n",
       "      <th>6ee66e115</th>\n",
       "      <th>20aa07010</th>\n",
       "      <th>dc5a8f1d8</th>\n",
       "      <th>...</th>\n",
       "      <th>3ecc09859</th>\n",
       "      <th>9281abeea</th>\n",
       "      <th>8675bec0b</th>\n",
       "      <th>3a13ed79a</th>\n",
       "      <th>f677d4d13</th>\n",
       "      <th>71b203550</th>\n",
       "      <th>137efaa80</th>\n",
       "      <th>fb36b89d9</th>\n",
       "      <th>7e293fbaf</th>\n",
       "      <th>9fc776466</th>\n",
       "    </tr>\n",
       "  </thead>\n",
       "  <tbody>\n",
       "    <tr>\n",
       "      <th>0</th>\n",
       "      <td>0.0</td>\n",
       "      <td>0</td>\n",
       "      <td>0.0</td>\n",
       "      <td>0</td>\n",
       "      <td>0</td>\n",
       "      <td>0</td>\n",
       "      <td>0</td>\n",
       "      <td>0</td>\n",
       "      <td>0.0</td>\n",
       "      <td>0.0</td>\n",
       "      <td>...</td>\n",
       "      <td>0.0</td>\n",
       "      <td>0.0</td>\n",
       "      <td>0.0</td>\n",
       "      <td>0</td>\n",
       "      <td>0</td>\n",
       "      <td>0</td>\n",
       "      <td>0</td>\n",
       "      <td>0</td>\n",
       "      <td>0</td>\n",
       "      <td>0</td>\n",
       "    </tr>\n",
       "    <tr>\n",
       "      <th>1</th>\n",
       "      <td>0.0</td>\n",
       "      <td>0</td>\n",
       "      <td>0.0</td>\n",
       "      <td>0</td>\n",
       "      <td>0</td>\n",
       "      <td>0</td>\n",
       "      <td>0</td>\n",
       "      <td>0</td>\n",
       "      <td>2200000.0</td>\n",
       "      <td>0.0</td>\n",
       "      <td>...</td>\n",
       "      <td>0.0</td>\n",
       "      <td>0.0</td>\n",
       "      <td>0.0</td>\n",
       "      <td>0</td>\n",
       "      <td>0</td>\n",
       "      <td>0</td>\n",
       "      <td>0</td>\n",
       "      <td>0</td>\n",
       "      <td>0</td>\n",
       "      <td>0</td>\n",
       "    </tr>\n",
       "    <tr>\n",
       "      <th>2</th>\n",
       "      <td>0.0</td>\n",
       "      <td>0</td>\n",
       "      <td>0.0</td>\n",
       "      <td>0</td>\n",
       "      <td>0</td>\n",
       "      <td>0</td>\n",
       "      <td>0</td>\n",
       "      <td>0</td>\n",
       "      <td>0.0</td>\n",
       "      <td>0.0</td>\n",
       "      <td>...</td>\n",
       "      <td>0.0</td>\n",
       "      <td>0.0</td>\n",
       "      <td>0.0</td>\n",
       "      <td>0</td>\n",
       "      <td>0</td>\n",
       "      <td>0</td>\n",
       "      <td>0</td>\n",
       "      <td>0</td>\n",
       "      <td>0</td>\n",
       "      <td>0</td>\n",
       "    </tr>\n",
       "    <tr>\n",
       "      <th>3</th>\n",
       "      <td>0.0</td>\n",
       "      <td>0</td>\n",
       "      <td>0.0</td>\n",
       "      <td>0</td>\n",
       "      <td>0</td>\n",
       "      <td>0</td>\n",
       "      <td>0</td>\n",
       "      <td>0</td>\n",
       "      <td>0.0</td>\n",
       "      <td>0.0</td>\n",
       "      <td>...</td>\n",
       "      <td>0.0</td>\n",
       "      <td>0.0</td>\n",
       "      <td>0.0</td>\n",
       "      <td>0</td>\n",
       "      <td>0</td>\n",
       "      <td>0</td>\n",
       "      <td>0</td>\n",
       "      <td>0</td>\n",
       "      <td>0</td>\n",
       "      <td>0</td>\n",
       "    </tr>\n",
       "    <tr>\n",
       "      <th>4</th>\n",
       "      <td>0.0</td>\n",
       "      <td>0</td>\n",
       "      <td>0.0</td>\n",
       "      <td>0</td>\n",
       "      <td>0</td>\n",
       "      <td>0</td>\n",
       "      <td>0</td>\n",
       "      <td>0</td>\n",
       "      <td>2000000.0</td>\n",
       "      <td>0.0</td>\n",
       "      <td>...</td>\n",
       "      <td>0.0</td>\n",
       "      <td>0.0</td>\n",
       "      <td>0.0</td>\n",
       "      <td>0</td>\n",
       "      <td>0</td>\n",
       "      <td>0</td>\n",
       "      <td>0</td>\n",
       "      <td>0</td>\n",
       "      <td>0</td>\n",
       "      <td>0</td>\n",
       "    </tr>\n",
       "  </tbody>\n",
       "</table>\n",
       "<p>5 rows × 4991 columns</p>\n",
       "</div>"
      ],
      "text/plain": [
       "   48df886f9  0deb4b6a8  34b15f335  a8cb14b00  2f0771a37  30347e683  \\\n",
       "0        0.0          0        0.0          0          0          0   \n",
       "1        0.0          0        0.0          0          0          0   \n",
       "2        0.0          0        0.0          0          0          0   \n",
       "3        0.0          0        0.0          0          0          0   \n",
       "4        0.0          0        0.0          0          0          0   \n",
       "\n",
       "   d08d1fbe3  6ee66e115  20aa07010  dc5a8f1d8    ...      3ecc09859  \\\n",
       "0          0          0        0.0        0.0    ...            0.0   \n",
       "1          0          0  2200000.0        0.0    ...            0.0   \n",
       "2          0          0        0.0        0.0    ...            0.0   \n",
       "3          0          0        0.0        0.0    ...            0.0   \n",
       "4          0          0  2000000.0        0.0    ...            0.0   \n",
       "\n",
       "   9281abeea  8675bec0b  3a13ed79a  f677d4d13  71b203550  137efaa80  \\\n",
       "0        0.0        0.0          0          0          0          0   \n",
       "1        0.0        0.0          0          0          0          0   \n",
       "2        0.0        0.0          0          0          0          0   \n",
       "3        0.0        0.0          0          0          0          0   \n",
       "4        0.0        0.0          0          0          0          0   \n",
       "\n",
       "   fb36b89d9  7e293fbaf  9fc776466  \n",
       "0          0          0          0  \n",
       "1          0          0          0  \n",
       "2          0          0          0  \n",
       "3          0          0          0  \n",
       "4          0          0          0  \n",
       "\n",
       "[5 rows x 4991 columns]"
      ]
     },
     "execution_count": 3,
     "metadata": {},
     "output_type": "execute_result"
    }
   ],
   "source": [
    "# Separo los features del conjunto de datos\n",
    "features = train.drop(['ID','target'],axis=1)\n",
    "features.head()"
   ]
  },
  {
   "cell_type": "code",
   "execution_count": 4,
   "metadata": {},
   "outputs": [
    {
     "data": {
      "text/plain": [
       "(4459, 4993)"
      ]
     },
     "execution_count": 4,
     "metadata": {},
     "output_type": "execute_result"
    }
   ],
   "source": [
    "train.shape"
   ]
  },
  {
   "cell_type": "code",
   "execution_count": 5,
   "metadata": {},
   "outputs": [
    {
     "data": {
      "text/plain": [
       "48df886f9    0.991254\n",
       "0deb4b6a8    0.999103\n",
       "34b15f335    0.992599\n",
       "a8cb14b00    0.999551\n",
       "2f0771a37    0.998879\n",
       "dtype: float64"
      ]
     },
     "execution_count": 5,
     "metadata": {},
     "output_type": "execute_result"
    }
   ],
   "source": [
    "# Analizamos el porcentaje de ceros\n",
    "num_filas = features.shape[0]\n",
    "num_columnas = features.shape[1]\n",
    "num_zeros_per_feature = (features == 0).sum()\n",
    "percentage_of_nulls = num_zeros_per_feature / num_filas\n",
    "percentage_of_nulls.head()"
   ]
  },
  {
   "cell_type": "code",
   "execution_count": 6,
   "metadata": {},
   "outputs": [
    {
     "data": {
      "text/plain": [
       "334     5400000\n",
       "537    14800000\n",
       "Name: a8cb14b00, dtype: int64"
      ]
     },
     "execution_count": 6,
     "metadata": {},
     "output_type": "execute_result"
    }
   ],
   "source": [
    "# Para corroborar que sus datos son ceros, examinaremos una distribución\n",
    "# del feature 'a8cb14b00' que tiene casi el 100% de sus datos con ceros\n",
    "feature = 'a8cb14b00'\n",
    "train[feature][train[feature].values > 0]"
   ]
  },
  {
   "cell_type": "markdown",
   "metadata": {},
   "source": [
    "Se puede verificar que el feature 'a8cb14b00' tiene solamente 2 datos que son mayores a ceros"
   ]
  },
  {
   "cell_type": "code",
   "execution_count": 7,
   "metadata": {},
   "outputs": [
    {
     "data": {
      "image/png": "[encoded data removed]",
      "text/plain": [
       "<matplotlib.figure.Figure at 0x29e6fd9d9e8>"
      ]
     },
     "metadata": {},
     "output_type": "display_data"
    }
   ],
   "source": [
    "plt.hist(percentage_of_nulls.values)\n",
    "plt.title(\"Porcentaje de ceros\")\n",
    "plt.xlabel(\"Porcentaje\")\n",
    "plt.ylabel(\"Cantidad\")\n",
    "plt.show()"
   ]
  },
  {
   "cell_type": "markdown",
   "metadata": {},
   "source": [
    "Una gran cantidad de las variables tiene valores con ceros, se puede observar que existe una separación en el 70% de sus datos"
   ]
  },
  {
   "cell_type": "code",
   "execution_count": 8,
   "metadata": {},
   "outputs": [
    {
     "data": {
      "image/png": "[encoded data removed]",
      "text/plain": [
       "<matplotlib.figure.Figure at 0x29e6fe04d30>"
      ]
     },
     "metadata": {},
     "output_type": "display_data"
    }
   ],
   "source": [
    "# Se analiza el histograma con variables que tengan menos del 70% de sus datos con cero\n",
    "less_than_70 = percentage_of_nulls[percentage_of_nulls < 0.7]\n",
    "plt.hist(less_than_70.values)\n",
    "plt.title('Porcentaje de ceros menor al 70%')\n",
    "plt.xlabel('Porcentaje')\n",
    "plt.ylabel('Cantidad')\n",
    "plt.show()"
   ]
  },
  {
   "cell_type": "markdown",
   "metadata": {},
   "source": [
    "Es necesario saber cuantas variables tienen estas características, y de estas variables es necesario conocer como es la distribución de la variables que tiene menor cantidad de ceros"
   ]
  },
  {
   "cell_type": "code",
   "execution_count": 9,
   "metadata": {},
   "outputs": [
    {
     "name": "stdout",
     "output_type": "stream",
     "text": [
      "Variables: 40\n"
     ]
    }
   ],
   "source": [
    "# Cantidad de variables que tienen menos del 70% de sus datos con ceros\n",
    "print(\"Variables: {}\".format(less_than_70.count()))"
   ]
  },
  {
   "cell_type": "code",
   "execution_count": 10,
   "metadata": {},
   "outputs": [
    {
     "data": {
      "image/png": "[encoded data removed]",
      "text/plain": [
       "<matplotlib.figure.Figure at 0x29e6fce39b0>"
      ]
     },
     "metadata": {},
     "output_type": "display_data"
    }
   ],
   "source": [
    "# Distribución de la variable con la menor cantidad de ceros\n",
    "feature = less_than_70.idxmin()\n",
    "plt.hist(train[feature].values)\n",
    "plt.title(\"Variable : %s\" % feature)\n",
    "plt.xlabel(\"Valores de la variable\")\n",
    "plt.ylabel(\"Cantidad\")\n",
    "plt.show()"
   ]
  },
  {
   "cell_type": "markdown",
   "metadata": {},
   "source": [
    "Los valores de las variable se acercan mas que todo a cero, lo que ocasiona a preguntarse si todas la variables de aquellas que tienen menos del 70% de sus datos con ceros, tienen las mismas características. Por lo que sería mejor realizar un análisis de las medias de todas estas variables."
   ]
  },
  {
   "cell_type": "code",
   "execution_count": 11,
   "metadata": {},
   "outputs": [
    {
     "name": "stdout",
     "output_type": "stream",
     "text": [
      "['20aa07010' '963a49cdc' '26fc93eb7' '0572565c2' '66ace2992' 'fb49e4212'\n",
      " '6619d81fc' '6eef030c1' 'fc99f9426' '1db387535' 'b43a7cfd5' '024c577b9'\n",
      " '2ec5b290f' '0ff32eb98' '58e056e12' '241f0f867' '1931ccfdd' '58e2e02e6'\n",
      " '9fd594eec' 'fb0f5dbfe' '91f701ba2' '703885424' 'eeb9cd3aa' '324921c7b'\n",
      " '58232a6fb' '491b9ee45' 'd6bb78916' '70feb1494' 'adb64ff71' '62e59a501'\n",
      " '15ace8c9f' '5c6487af1' 'f190486d6' 'f74e8f13d' 'c5a231d81' 'e176a204a'\n",
      " '1702b5bf0' '190db8488' 'c47340d97' '23310aa6f']\n"
     ]
    }
   ],
   "source": [
    "# Obtenermos una lista de los features\n",
    "features_less_than_70 = less_than_70.index.values\n",
    "print(features_less_than_70)"
   ]
  },
  {
   "cell_type": "code",
   "execution_count": 12,
   "metadata": {},
   "outputs": [
    {
     "data": {
      "image/png": "[encoded data removed]",
      "text/plain": [
       "<matplotlib.figure.Figure at 0x29e5da39630>"
      ]
     },
     "metadata": {},
     "output_type": "display_data"
    }
   ],
   "source": [
    "# Se grafica el histograma de las medias\n",
    "plt.hist(train[features_less_than_70].mean().values)\n",
    "plt.title('Histograma de la media de las variables')\n",
    "plt.xlabel('Media')\n",
    "plt.ylabel('Cantidad')\n",
    "plt.show()"
   ]
  },
  {
   "cell_type": "markdown",
   "metadata": {},
   "source": [
    "Según el gráfico la mayoría de las variables tiene una media elevada. Por esto se verificará la distribución de la variable con la media mas elevada."
   ]
  },
  {
   "cell_type": "code",
   "execution_count": 13,
   "metadata": {},
   "outputs": [
    {
     "data": {
      "image/png": "[encoded data removed]",
      "text/plain": [
       "<matplotlib.figure.Figure at 0x29e6a6db4e0>"
      ]
     },
     "metadata": {},
     "output_type": "display_data"
    }
   ],
   "source": [
    "feature = train[features_less_than_70].mean().idxmax()\n",
    "plt.hist(train[feature].values)\n",
    "plt.title(\"Variable : %s\" % feature)\n",
    "plt.xlabel(\"Valores de la variable\")\n",
    "plt.ylabel(\"Cantidad\")\n",
    "plt.show()"
   ]
  },
  {
   "cell_type": "markdown",
   "metadata": {},
   "source": [
    "La variable con la mayor media es la que menos datos con ceros tiene. Por lo cual no me indica si todos los otros valores se encuentra cerca de cero. Se verificará la desviación estandar de todas las variables."
   ]
  },
  {
   "cell_type": "code",
   "execution_count": 14,
   "metadata": {},
   "outputs": [
    {
     "data": {
      "image/png": "[encoded data removed]",
      "text/plain": [
       "<matplotlib.figure.Figure at 0x29e6fd13198>"
      ]
     },
     "metadata": {},
     "output_type": "display_data"
    }
   ],
   "source": [
    "# Se grafica el histograma de las desviaciones estandar\n",
    "plt.hist(train[features_less_than_70].std().values)\n",
    "plt.title('Histograma de las desviaciones estandar')\n",
    "plt.xlabel('Desviacion estandar')\n",
    "plt.ylabel('Cantidad')\n",
    "plt.show()"
   ]
  },
  {
   "cell_type": "code",
   "execution_count": 15,
   "metadata": {},
   "outputs": [
    {
     "data": {
      "image/png": "[encoded data removed]",
      "text/plain": [
       "<matplotlib.figure.Figure at 0x29e625965c0>"
      ]
     },
     "metadata": {},
     "output_type": "display_data"
    }
   ],
   "source": [
    "# Verificar la variable con menor distribucion estandar\n",
    "feature = train[features_less_than_70].std().idxmin()\n",
    "plt.hist(train[feature].values)\n",
    "plt.title(\"Variable : %s\" % feature)\n",
    "plt.xlabel(\"Valores de la variable\")\n",
    "plt.ylabel(\"Cantidad\")\n",
    "plt.show()"
   ]
  },
  {
   "cell_type": "markdown",
   "metadata": {},
   "source": [
    "También la mayoría de sus variables se encuentran cerca de cero. Mi pregunta es si acaso ocurre lo mismo para los valores de todas las variables con la menor desviación estandar"
   ]
  },
  {
   "cell_type": "code",
   "execution_count": 16,
   "metadata": {},
   "outputs": [
    {
     "data": {
      "image/png": "[encoded data removed]",
      "text/plain": [
       "<matplotlib.figure.Figure at 0x29e625ed4e0>"
      ]
     },
     "metadata": {},
     "output_type": "display_data"
    }
   ],
   "source": [
    "# Verificar la variable con menor distribucion estandar\n",
    "feature = features.std().idxmin()\n",
    "plt.hist(train[feature].values)\n",
    "plt.title(\"Variable : %s\" % feature)\n",
    "plt.xlabel(\"Valores de la variable\")\n",
    "plt.ylabel(\"Cantidad\")\n",
    "plt.show()"
   ]
  },
  {
   "cell_type": "markdown",
   "metadata": {},
   "source": [
    "Lo que se requiere saber es la cantidad de variables que tienen sus valores menor a 0.5"
   ]
  },
  {
   "cell_type": "code",
   "execution_count": 17,
   "metadata": {},
   "outputs": [
    {
     "data": {
      "image/png": "[encoded data removed]",
      "text/plain": [
       "<matplotlib.figure.Figure at 0x29e62484518>"
      ]
     },
     "metadata": {},
     "output_type": "display_data"
    }
   ],
   "source": [
    "# Obtener las variables que sean mayor que cero y menor que 0.5\n",
    "df = train[features_less_than_70]\n",
    "df = df.apply(lambda x: x.sort_values().values)\n",
    "plt.plot(df,color='black')\n",
    "plt.show()"
   ]
  },
  {
   "cell_type": "markdown",
   "metadata": {},
   "source": [
    "La gran mayoría de las variables tiene valores muy bajos, cercanos a cero, por lo que al parecer las variables deben ser valores como tasa de variación o que indican algún tipo de cambio. Siendo así me gustaría examinar cuales son los 10 maximos valores alcanzados"
   ]
  },
  {
   "cell_type": "code",
   "execution_count": 18,
   "metadata": {},
   "outputs": [
    {
     "data": {
      "image/png": "[encoded data removed]",
      "text/plain": [
       "<matplotlib.figure.Figure at 0x29e628bc748>"
      ]
     },
     "metadata": {},
     "output_type": "display_data"
    }
   ],
   "source": [
    "porcentaje_greater_100 = (features > 1).sum() / num_filas\n",
    "plt.hist(porcentaje_greater_100)\n",
    "plt.title('Porcentaje de datos con un valor mayor que 100')\n",
    "plt.xlabel('Porcentaje de valores mayor que 100')\n",
    "plt.ylabel('Cantidad de variables')\n",
    "plt.show()"
   ]
  },
  {
   "cell_type": "markdown",
   "metadata": {},
   "source": [
    "Existe algunas variables que tienen el 35% de sus datos mayor que 100, la gran mayoría de las variables tiene el 5% de sus datos mayor que 100, es decir que son valores muy atipicos. Por lo que se tiene que tratar esos datos. Sería bueno observar los que son menores a 5%"
   ]
  },
  {
   "cell_type": "code",
   "execution_count": 19,
   "metadata": {},
   "outputs": [
    {
     "data": {
      "image/png": "[encoded data removed]",
      "text/plain": [
       "<matplotlib.figure.Figure at 0x29e63433be0>"
      ]
     },
     "metadata": {},
     "output_type": "display_data"
    }
   ],
   "source": [
    "plt.hist(porcentaje_greater_100[porcentaje_greater_100 < 0.05])\n",
    "plt.show()"
   ]
  },
  {
   "cell_type": "code",
   "execution_count": 20,
   "metadata": {},
   "outputs": [
    {
     "data": {
      "image/png": "[encoded data removed]",
      "text/plain": [
       "<matplotlib.figure.Figure at 0x29e6841d470>"
      ]
     },
     "metadata": {},
     "output_type": "display_data"
    }
   ],
   "source": [
    "porcentaje_greater_100 = (train[features_less_than_70] > 1).sum() / num_filas\n",
    "plt.hist(porcentaje_greater_100)\n",
    "plt.title('Porcentaje de datos con un valor mayor que 1')\n",
    "plt.xlabel('Porcentaje de valores mayor que 1')\n",
    "plt.ylabel('Cantidad de variables')\n",
    "plt.show()"
   ]
  },
  {
   "cell_type": "code",
   "execution_count": 21,
   "metadata": {},
   "outputs": [
    {
     "data": {
      "image/png": "[encoded data removed]",
      "text/plain": [
       "<matplotlib.figure.Figure at 0x29e6a67e240>"
      ]
     },
     "metadata": {},
     "output_type": "display_data"
    }
   ],
   "source": [
    "feature = porcentaje_greater_100.idxmax()\n",
    "values = train[feature][train[feature] < 2e8]\n",
    "plt.hist(values.values)\n",
    "plt.show()"
   ]
  },
  {
   "cell_type": "markdown",
   "metadata": {},
   "source": [
    "## Entrenamiento del modelo"
   ]
  },
  {
   "cell_type": "code",
   "execution_count": 22,
   "metadata": {},
   "outputs": [],
   "source": [
    "# Load Own functions\n",
    "def standardize( df, numeric_online=True):\n",
    "    numeric = df.select_dtypes(include=['int64','float64'])\n",
    "    \n",
    "    #substract mean and divide by std\n",
    "    df[numeric.columns] = ( numeric - numeric.mean() ) / numeric.std() \n",
    "    \n",
    "    return df"
   ]
  },
  {
   "cell_type": "code",
   "execution_count": 23,
   "metadata": {},
   "outputs": [],
   "source": [
    "import math\n",
    "\n",
    "#A function to calculate Root Mean Squared Logarithmic Error (RMSLE)\n",
    "def rmsle(y, y_pred):\n",
    "    assert len(y) == len(y_pred)\n",
    "    terms_to_sum = [(math.log(y_pred[i] + 1) - math.log(y[i] + 1)) ** 2.0 for i,pred in enumerate(y_pred)]\n",
    "    return (sum(terms_to_sum) * (1.0/len(y))) ** 0.5"
   ]
  },
  {
   "cell_type": "code",
   "execution_count": 24,
   "metadata": {},
   "outputs": [
    {
     "data": {
      "text/html": [
       "<div>\n",
       "<style>\n",
       "    .dataframe thead tr:only-child th {\n",
       "        text-align: right;\n",
       "    }\n",
       "\n",
       "    .dataframe thead th {\n",
       "        text-align: left;\n",
       "    }\n",
       "\n",
       "    .dataframe tbody tr th {\n",
       "        vertical-align: top;\n",
       "    }\n",
       "</style>\n",
       "<table border=\"1\" class=\"dataframe\">\n",
       "  <thead>\n",
       "    <tr style=\"text-align: right;\">\n",
       "      <th></th>\n",
       "      <th>target</th>\n",
       "      <th>48df886f9</th>\n",
       "      <th>0deb4b6a8</th>\n",
       "      <th>34b15f335</th>\n",
       "      <th>a8cb14b00</th>\n",
       "      <th>2f0771a37</th>\n",
       "      <th>30347e683</th>\n",
       "      <th>d08d1fbe3</th>\n",
       "      <th>6ee66e115</th>\n",
       "      <th>20aa07010</th>\n",
       "      <th>...</th>\n",
       "      <th>3ecc09859</th>\n",
       "      <th>9281abeea</th>\n",
       "      <th>8675bec0b</th>\n",
       "      <th>3a13ed79a</th>\n",
       "      <th>f677d4d13</th>\n",
       "      <th>71b203550</th>\n",
       "      <th>137efaa80</th>\n",
       "      <th>fb36b89d9</th>\n",
       "      <th>7e293fbaf</th>\n",
       "      <th>9fc776466</th>\n",
       "    </tr>\n",
       "  </thead>\n",
       "  <tbody>\n",
       "    <tr>\n",
       "      <th>4454</th>\n",
       "      <td>1065000.0</td>\n",
       "      <td>0.0</td>\n",
       "      <td>0</td>\n",
       "      <td>0.0</td>\n",
       "      <td>0</td>\n",
       "      <td>0</td>\n",
       "      <td>0</td>\n",
       "      <td>0</td>\n",
       "      <td>0</td>\n",
       "      <td>70000.0</td>\n",
       "      <td>...</td>\n",
       "      <td>0.0</td>\n",
       "      <td>0.0</td>\n",
       "      <td>0.0</td>\n",
       "      <td>0</td>\n",
       "      <td>0</td>\n",
       "      <td>0</td>\n",
       "      <td>0</td>\n",
       "      <td>0</td>\n",
       "      <td>0</td>\n",
       "      <td>0</td>\n",
       "    </tr>\n",
       "    <tr>\n",
       "      <th>4455</th>\n",
       "      <td>48000.0</td>\n",
       "      <td>0.0</td>\n",
       "      <td>0</td>\n",
       "      <td>0.0</td>\n",
       "      <td>0</td>\n",
       "      <td>0</td>\n",
       "      <td>0</td>\n",
       "      <td>0</td>\n",
       "      <td>0</td>\n",
       "      <td>375000.0</td>\n",
       "      <td>...</td>\n",
       "      <td>0.0</td>\n",
       "      <td>0.0</td>\n",
       "      <td>80000.0</td>\n",
       "      <td>0</td>\n",
       "      <td>0</td>\n",
       "      <td>0</td>\n",
       "      <td>0</td>\n",
       "      <td>0</td>\n",
       "      <td>0</td>\n",
       "      <td>0</td>\n",
       "    </tr>\n",
       "    <tr>\n",
       "      <th>4456</th>\n",
       "      <td>2800000.0</td>\n",
       "      <td>0.0</td>\n",
       "      <td>0</td>\n",
       "      <td>0.0</td>\n",
       "      <td>0</td>\n",
       "      <td>0</td>\n",
       "      <td>0</td>\n",
       "      <td>0</td>\n",
       "      <td>0</td>\n",
       "      <td>0.0</td>\n",
       "      <td>...</td>\n",
       "      <td>0.0</td>\n",
       "      <td>0.0</td>\n",
       "      <td>0.0</td>\n",
       "      <td>0</td>\n",
       "      <td>0</td>\n",
       "      <td>0</td>\n",
       "      <td>0</td>\n",
       "      <td>0</td>\n",
       "      <td>0</td>\n",
       "      <td>0</td>\n",
       "    </tr>\n",
       "    <tr>\n",
       "      <th>4457</th>\n",
       "      <td>10000000.0</td>\n",
       "      <td>0.0</td>\n",
       "      <td>0</td>\n",
       "      <td>0.0</td>\n",
       "      <td>0</td>\n",
       "      <td>0</td>\n",
       "      <td>0</td>\n",
       "      <td>0</td>\n",
       "      <td>0</td>\n",
       "      <td>0.0</td>\n",
       "      <td>...</td>\n",
       "      <td>0.0</td>\n",
       "      <td>0.0</td>\n",
       "      <td>0.0</td>\n",
       "      <td>0</td>\n",
       "      <td>0</td>\n",
       "      <td>0</td>\n",
       "      <td>0</td>\n",
       "      <td>0</td>\n",
       "      <td>0</td>\n",
       "      <td>0</td>\n",
       "    </tr>\n",
       "    <tr>\n",
       "      <th>4458</th>\n",
       "      <td>20000000.0</td>\n",
       "      <td>0.0</td>\n",
       "      <td>0</td>\n",
       "      <td>0.0</td>\n",
       "      <td>0</td>\n",
       "      <td>0</td>\n",
       "      <td>0</td>\n",
       "      <td>0</td>\n",
       "      <td>0</td>\n",
       "      <td>20000000.0</td>\n",
       "      <td>...</td>\n",
       "      <td>0.0</td>\n",
       "      <td>0.0</td>\n",
       "      <td>0.0</td>\n",
       "      <td>0</td>\n",
       "      <td>0</td>\n",
       "      <td>0</td>\n",
       "      <td>0</td>\n",
       "      <td>0</td>\n",
       "      <td>0</td>\n",
       "      <td>0</td>\n",
       "    </tr>\n",
       "  </tbody>\n",
       "</table>\n",
       "<p>5 rows × 4992 columns</p>\n",
       "</div>"
      ],
      "text/plain": [
       "          target  48df886f9  0deb4b6a8  34b15f335  a8cb14b00  2f0771a37  \\\n",
       "4454   1065000.0        0.0          0        0.0          0          0   \n",
       "4455     48000.0        0.0          0        0.0          0          0   \n",
       "4456   2800000.0        0.0          0        0.0          0          0   \n",
       "4457  10000000.0        0.0          0        0.0          0          0   \n",
       "4458  20000000.0        0.0          0        0.0          0          0   \n",
       "\n",
       "      30347e683  d08d1fbe3  6ee66e115   20aa07010    ...      3ecc09859  \\\n",
       "4454          0          0          0     70000.0    ...            0.0   \n",
       "4455          0          0          0    375000.0    ...            0.0   \n",
       "4456          0          0          0         0.0    ...            0.0   \n",
       "4457          0          0          0         0.0    ...            0.0   \n",
       "4458          0          0          0  20000000.0    ...            0.0   \n",
       "\n",
       "      9281abeea  8675bec0b  3a13ed79a  f677d4d13  71b203550  137efaa80  \\\n",
       "4454        0.0        0.0          0          0          0          0   \n",
       "4455        0.0    80000.0          0          0          0          0   \n",
       "4456        0.0        0.0          0          0          0          0   \n",
       "4457        0.0        0.0          0          0          0          0   \n",
       "4458        0.0        0.0          0          0          0          0   \n",
       "\n",
       "      fb36b89d9  7e293fbaf  9fc776466  \n",
       "4454          0          0          0  \n",
       "4455          0          0          0  \n",
       "4456          0          0          0  \n",
       "4457          0          0          0  \n",
       "4458          0          0          0  \n",
       "\n",
       "[5 rows x 4992 columns]"
      ]
     },
     "execution_count": 24,
     "metadata": {},
     "output_type": "execute_result"
    }
   ],
   "source": [
    "# Load Base Line\n",
    "dataBL = train\n",
    "dataBL = dataBL.drop(['ID'],axis=1)\n",
    "dataBL.tail()"
   ]
  },
  {
   "cell_type": "code",
   "execution_count": 25,
   "metadata": {},
   "outputs": [
    {
     "data": {
      "text/html": [
       "<div>\n",
       "<style>\n",
       "    .dataframe thead tr:only-child th {\n",
       "        text-align: right;\n",
       "    }\n",
       "\n",
       "    .dataframe thead th {\n",
       "        text-align: left;\n",
       "    }\n",
       "\n",
       "    .dataframe tbody tr th {\n",
       "        vertical-align: top;\n",
       "    }\n",
       "</style>\n",
       "<table border=\"1\" class=\"dataframe\">\n",
       "  <thead>\n",
       "    <tr style=\"text-align: right;\">\n",
       "      <th></th>\n",
       "      <th>20aa07010</th>\n",
       "      <th>963a49cdc</th>\n",
       "      <th>26fc93eb7</th>\n",
       "      <th>0572565c2</th>\n",
       "      <th>66ace2992</th>\n",
       "      <th>fb49e4212</th>\n",
       "      <th>6619d81fc</th>\n",
       "      <th>6eef030c1</th>\n",
       "      <th>fc99f9426</th>\n",
       "      <th>1db387535</th>\n",
       "      <th>...</th>\n",
       "      <th>5c6487af1</th>\n",
       "      <th>f190486d6</th>\n",
       "      <th>f74e8f13d</th>\n",
       "      <th>c5a231d81</th>\n",
       "      <th>e176a204a</th>\n",
       "      <th>1702b5bf0</th>\n",
       "      <th>190db8488</th>\n",
       "      <th>c47340d97</th>\n",
       "      <th>23310aa6f</th>\n",
       "      <th>target</th>\n",
       "    </tr>\n",
       "  </thead>\n",
       "  <tbody>\n",
       "    <tr>\n",
       "      <th>0</th>\n",
       "      <td>0.0</td>\n",
       "      <td>13200000.0</td>\n",
       "      <td>3205000.0</td>\n",
       "      <td>400000.0</td>\n",
       "      <td>0.0</td>\n",
       "      <td>0.0</td>\n",
       "      <td>400000.0</td>\n",
       "      <td>900000.0</td>\n",
       "      <td>0.0</td>\n",
       "      <td>0.0</td>\n",
       "      <td>...</td>\n",
       "      <td>0.0</td>\n",
       "      <td>1866666.66</td>\n",
       "      <td>1733333.34</td>\n",
       "      <td>0.0</td>\n",
       "      <td>0.0</td>\n",
       "      <td>0.0</td>\n",
       "      <td>0.0</td>\n",
       "      <td>0.0</td>\n",
       "      <td>0.0</td>\n",
       "      <td>38000000.0</td>\n",
       "    </tr>\n",
       "    <tr>\n",
       "      <th>1</th>\n",
       "      <td>2200000.0</td>\n",
       "      <td>0.0</td>\n",
       "      <td>0.0</td>\n",
       "      <td>0.0</td>\n",
       "      <td>0.0</td>\n",
       "      <td>0.0</td>\n",
       "      <td>0.0</td>\n",
       "      <td>800000.0</td>\n",
       "      <td>0.0</td>\n",
       "      <td>0.0</td>\n",
       "      <td>...</td>\n",
       "      <td>0.0</td>\n",
       "      <td>0.00</td>\n",
       "      <td>0.00</td>\n",
       "      <td>0.0</td>\n",
       "      <td>0.0</td>\n",
       "      <td>16000000.0</td>\n",
       "      <td>0.0</td>\n",
       "      <td>0.0</td>\n",
       "      <td>0.0</td>\n",
       "      <td>600000.0</td>\n",
       "    </tr>\n",
       "    <tr>\n",
       "      <th>2</th>\n",
       "      <td>0.0</td>\n",
       "      <td>12000000.0</td>\n",
       "      <td>0.0</td>\n",
       "      <td>0.0</td>\n",
       "      <td>5500000.0</td>\n",
       "      <td>0.0</td>\n",
       "      <td>0.0</td>\n",
       "      <td>0.0</td>\n",
       "      <td>0.0</td>\n",
       "      <td>0.0</td>\n",
       "      <td>...</td>\n",
       "      <td>0.0</td>\n",
       "      <td>0.00</td>\n",
       "      <td>0.00</td>\n",
       "      <td>0.0</td>\n",
       "      <td>0.0</td>\n",
       "      <td>0.0</td>\n",
       "      <td>0.0</td>\n",
       "      <td>0.0</td>\n",
       "      <td>0.0</td>\n",
       "      <td>10000000.0</td>\n",
       "    </tr>\n",
       "    <tr>\n",
       "      <th>3</th>\n",
       "      <td>0.0</td>\n",
       "      <td>0.0</td>\n",
       "      <td>0.0</td>\n",
       "      <td>0.0</td>\n",
       "      <td>0.0</td>\n",
       "      <td>0.0</td>\n",
       "      <td>0.0</td>\n",
       "      <td>0.0</td>\n",
       "      <td>0.0</td>\n",
       "      <td>0.0</td>\n",
       "      <td>...</td>\n",
       "      <td>0.0</td>\n",
       "      <td>2000000.00</td>\n",
       "      <td>0.00</td>\n",
       "      <td>0.0</td>\n",
       "      <td>0.0</td>\n",
       "      <td>0.0</td>\n",
       "      <td>0.0</td>\n",
       "      <td>0.0</td>\n",
       "      <td>0.0</td>\n",
       "      <td>2000000.0</td>\n",
       "    </tr>\n",
       "    <tr>\n",
       "      <th>4</th>\n",
       "      <td>2000000.0</td>\n",
       "      <td>0.0</td>\n",
       "      <td>0.0</td>\n",
       "      <td>0.0</td>\n",
       "      <td>0.0</td>\n",
       "      <td>0.0</td>\n",
       "      <td>0.0</td>\n",
       "      <td>37662000.0</td>\n",
       "      <td>0.0</td>\n",
       "      <td>0.0</td>\n",
       "      <td>...</td>\n",
       "      <td>0.0</td>\n",
       "      <td>0.00</td>\n",
       "      <td>0.00</td>\n",
       "      <td>0.0</td>\n",
       "      <td>0.0</td>\n",
       "      <td>0.0</td>\n",
       "      <td>0.0</td>\n",
       "      <td>8000000.0</td>\n",
       "      <td>0.0</td>\n",
       "      <td>14400000.0</td>\n",
       "    </tr>\n",
       "  </tbody>\n",
       "</table>\n",
       "<p>5 rows × 41 columns</p>\n",
       "</div>"
      ],
      "text/plain": [
       "   20aa07010   963a49cdc  26fc93eb7  0572565c2  66ace2992  fb49e4212  \\\n",
       "0        0.0  13200000.0  3205000.0   400000.0        0.0        0.0   \n",
       "1  2200000.0         0.0        0.0        0.0        0.0        0.0   \n",
       "2        0.0  12000000.0        0.0        0.0  5500000.0        0.0   \n",
       "3        0.0         0.0        0.0        0.0        0.0        0.0   \n",
       "4  2000000.0         0.0        0.0        0.0        0.0        0.0   \n",
       "\n",
       "   6619d81fc   6eef030c1  fc99f9426  1db387535     ...      5c6487af1  \\\n",
       "0   400000.0    900000.0        0.0        0.0     ...            0.0   \n",
       "1        0.0    800000.0        0.0        0.0     ...            0.0   \n",
       "2        0.0         0.0        0.0        0.0     ...            0.0   \n",
       "3        0.0         0.0        0.0        0.0     ...            0.0   \n",
       "4        0.0  37662000.0        0.0        0.0     ...            0.0   \n",
       "\n",
       "    f190486d6   f74e8f13d  c5a231d81  e176a204a   1702b5bf0  190db8488  \\\n",
       "0  1866666.66  1733333.34        0.0        0.0         0.0        0.0   \n",
       "1        0.00        0.00        0.0        0.0  16000000.0        0.0   \n",
       "2        0.00        0.00        0.0        0.0         0.0        0.0   \n",
       "3  2000000.00        0.00        0.0        0.0         0.0        0.0   \n",
       "4        0.00        0.00        0.0        0.0         0.0        0.0   \n",
       "\n",
       "   c47340d97  23310aa6f      target  \n",
       "0        0.0        0.0  38000000.0  \n",
       "1        0.0        0.0    600000.0  \n",
       "2        0.0        0.0  10000000.0  \n",
       "3        0.0        0.0   2000000.0  \n",
       "4  8000000.0        0.0  14400000.0  \n",
       "\n",
       "[5 rows x 41 columns]"
      ]
     },
     "execution_count": 25,
     "metadata": {},
     "output_type": "execute_result"
    }
   ],
   "source": [
    "# Feature reduction\n",
    "percentage_zeros_accepted = 0.7\n",
    "data00 = dataBL\n",
    "data00 = data00.drop(['target'],axis=1)\n",
    "percentage_zeros = (data00 == 0).mean()\n",
    "features = percentage_zeros[percentage_zeros < percentage_zeros_accepted]\n",
    "features = features.index.values\n",
    "data00 = data00[features]\n",
    "data00 = data00.assign(target = dataBL['target'])\n",
    "data00.head()"
   ]
  },
  {
   "cell_type": "code",
   "execution_count": 26,
   "metadata": {},
   "outputs": [
    {
     "data": {
      "text/html": [
       "<div>\n",
       "<style>\n",
       "    .dataframe thead tr:only-child th {\n",
       "        text-align: right;\n",
       "    }\n",
       "\n",
       "    .dataframe thead th {\n",
       "        text-align: left;\n",
       "    }\n",
       "\n",
       "    .dataframe tbody tr th {\n",
       "        vertical-align: top;\n",
       "    }\n",
       "</style>\n",
       "<table border=\"1\" class=\"dataframe\">\n",
       "  <thead>\n",
       "    <tr style=\"text-align: right;\">\n",
       "      <th></th>\n",
       "      <th>20aa07010</th>\n",
       "      <th>963a49cdc</th>\n",
       "      <th>26fc93eb7</th>\n",
       "      <th>0572565c2</th>\n",
       "      <th>66ace2992</th>\n",
       "      <th>fb49e4212</th>\n",
       "      <th>6619d81fc</th>\n",
       "      <th>6eef030c1</th>\n",
       "      <th>fc99f9426</th>\n",
       "      <th>1db387535</th>\n",
       "      <th>...</th>\n",
       "      <th>5c6487af1</th>\n",
       "      <th>f190486d6</th>\n",
       "      <th>f74e8f13d</th>\n",
       "      <th>c5a231d81</th>\n",
       "      <th>e176a204a</th>\n",
       "      <th>1702b5bf0</th>\n",
       "      <th>190db8488</th>\n",
       "      <th>c47340d97</th>\n",
       "      <th>23310aa6f</th>\n",
       "      <th>target</th>\n",
       "    </tr>\n",
       "  </thead>\n",
       "  <tbody>\n",
       "    <tr>\n",
       "      <th>0</th>\n",
       "      <td>-0.267363</td>\n",
       "      <td>1.182401</td>\n",
       "      <td>0.109472</td>\n",
       "      <td>-0.226592</td>\n",
       "      <td>-0.271268</td>\n",
       "      <td>-0.300077</td>\n",
       "      <td>-0.224205</td>\n",
       "      <td>-0.190911</td>\n",
       "      <td>-0.297461</td>\n",
       "      <td>-0.267547</td>\n",
       "      <td>...</td>\n",
       "      <td>-0.265666</td>\n",
       "      <td>-0.078407</td>\n",
       "      <td>-0.079043</td>\n",
       "      <td>-0.270703</td>\n",
       "      <td>-0.265186</td>\n",
       "      <td>-0.303607</td>\n",
       "      <td>-0.265673</td>\n",
       "      <td>-0.270941</td>\n",
       "      <td>-0.269381</td>\n",
       "      <td>38000000.0</td>\n",
       "    </tr>\n",
       "    <tr>\n",
       "      <th>1</th>\n",
       "      <td>-0.038439</td>\n",
       "      <td>-0.264044</td>\n",
       "      <td>-0.300604</td>\n",
       "      <td>-0.268090</td>\n",
       "      <td>-0.271268</td>\n",
       "      <td>-0.300077</td>\n",
       "      <td>-0.265871</td>\n",
       "      <td>-0.203998</td>\n",
       "      <td>-0.297461</td>\n",
       "      <td>-0.267547</td>\n",
       "      <td>...</td>\n",
       "      <td>-0.265666</td>\n",
       "      <td>-0.287987</td>\n",
       "      <td>-0.297329</td>\n",
       "      <td>-0.270703</td>\n",
       "      <td>-0.265186</td>\n",
       "      <td>1.649191</td>\n",
       "      <td>-0.265673</td>\n",
       "      <td>-0.270941</td>\n",
       "      <td>-0.269381</td>\n",
       "      <td>600000.0</td>\n",
       "    </tr>\n",
       "    <tr>\n",
       "      <th>2</th>\n",
       "      <td>-0.267363</td>\n",
       "      <td>1.050906</td>\n",
       "      <td>-0.300604</td>\n",
       "      <td>-0.268090</td>\n",
       "      <td>0.326295</td>\n",
       "      <td>-0.300077</td>\n",
       "      <td>-0.265871</td>\n",
       "      <td>-0.308694</td>\n",
       "      <td>-0.297461</td>\n",
       "      <td>-0.267547</td>\n",
       "      <td>...</td>\n",
       "      <td>-0.265666</td>\n",
       "      <td>-0.287987</td>\n",
       "      <td>-0.297329</td>\n",
       "      <td>-0.270703</td>\n",
       "      <td>-0.265186</td>\n",
       "      <td>-0.303607</td>\n",
       "      <td>-0.265673</td>\n",
       "      <td>-0.270941</td>\n",
       "      <td>-0.269381</td>\n",
       "      <td>10000000.0</td>\n",
       "    </tr>\n",
       "    <tr>\n",
       "      <th>3</th>\n",
       "      <td>-0.267363</td>\n",
       "      <td>-0.264044</td>\n",
       "      <td>-0.300604</td>\n",
       "      <td>-0.268090</td>\n",
       "      <td>-0.271268</td>\n",
       "      <td>-0.300077</td>\n",
       "      <td>-0.265871</td>\n",
       "      <td>-0.308694</td>\n",
       "      <td>-0.297461</td>\n",
       "      <td>-0.267547</td>\n",
       "      <td>...</td>\n",
       "      <td>-0.265666</td>\n",
       "      <td>-0.063437</td>\n",
       "      <td>-0.297329</td>\n",
       "      <td>-0.270703</td>\n",
       "      <td>-0.265186</td>\n",
       "      <td>-0.303607</td>\n",
       "      <td>-0.265673</td>\n",
       "      <td>-0.270941</td>\n",
       "      <td>-0.269381</td>\n",
       "      <td>2000000.0</td>\n",
       "    </tr>\n",
       "    <tr>\n",
       "      <th>4</th>\n",
       "      <td>-0.059250</td>\n",
       "      <td>-0.264044</td>\n",
       "      <td>-0.300604</td>\n",
       "      <td>-0.268090</td>\n",
       "      <td>-0.271268</td>\n",
       "      <td>-0.300077</td>\n",
       "      <td>-0.265871</td>\n",
       "      <td>4.620119</td>\n",
       "      <td>-0.297461</td>\n",
       "      <td>-0.267547</td>\n",
       "      <td>...</td>\n",
       "      <td>-0.265666</td>\n",
       "      <td>-0.287987</td>\n",
       "      <td>-0.297329</td>\n",
       "      <td>-0.270703</td>\n",
       "      <td>-0.265186</td>\n",
       "      <td>-0.303607</td>\n",
       "      <td>-0.265673</td>\n",
       "      <td>0.558825</td>\n",
       "      <td>-0.269381</td>\n",
       "      <td>14400000.0</td>\n",
       "    </tr>\n",
       "  </tbody>\n",
       "</table>\n",
       "<p>5 rows × 41 columns</p>\n",
       "</div>"
      ],
      "text/plain": [
       "   20aa07010  963a49cdc  26fc93eb7  0572565c2  66ace2992  fb49e4212  \\\n",
       "0  -0.267363   1.182401   0.109472  -0.226592  -0.271268  -0.300077   \n",
       "1  -0.038439  -0.264044  -0.300604  -0.268090  -0.271268  -0.300077   \n",
       "2  -0.267363   1.050906  -0.300604  -0.268090   0.326295  -0.300077   \n",
       "3  -0.267363  -0.264044  -0.300604  -0.268090  -0.271268  -0.300077   \n",
       "4  -0.059250  -0.264044  -0.300604  -0.268090  -0.271268  -0.300077   \n",
       "\n",
       "   6619d81fc  6eef030c1  fc99f9426  1db387535     ...      5c6487af1  \\\n",
       "0  -0.224205  -0.190911  -0.297461  -0.267547     ...      -0.265666   \n",
       "1  -0.265871  -0.203998  -0.297461  -0.267547     ...      -0.265666   \n",
       "2  -0.265871  -0.308694  -0.297461  -0.267547     ...      -0.265666   \n",
       "3  -0.265871  -0.308694  -0.297461  -0.267547     ...      -0.265666   \n",
       "4  -0.265871   4.620119  -0.297461  -0.267547     ...      -0.265666   \n",
       "\n",
       "   f190486d6  f74e8f13d  c5a231d81  e176a204a  1702b5bf0  190db8488  \\\n",
       "0  -0.078407  -0.079043  -0.270703  -0.265186  -0.303607  -0.265673   \n",
       "1  -0.287987  -0.297329  -0.270703  -0.265186   1.649191  -0.265673   \n",
       "2  -0.287987  -0.297329  -0.270703  -0.265186  -0.303607  -0.265673   \n",
       "3  -0.063437  -0.297329  -0.270703  -0.265186  -0.303607  -0.265673   \n",
       "4  -0.287987  -0.297329  -0.270703  -0.265186  -0.303607  -0.265673   \n",
       "\n",
       "   c47340d97  23310aa6f      target  \n",
       "0  -0.270941  -0.269381  38000000.0  \n",
       "1  -0.270941  -0.269381    600000.0  \n",
       "2  -0.270941  -0.269381  10000000.0  \n",
       "3  -0.270941  -0.269381   2000000.0  \n",
       "4   0.558825  -0.269381  14400000.0  \n",
       "\n",
       "[5 rows x 41 columns]"
      ]
     },
     "execution_count": 26,
     "metadata": {},
     "output_type": "execute_result"
    }
   ],
   "source": [
    "# Estandarizar los datos\n",
    "data01 = data00\n",
    "data01 = data01.drop(['target'],axis=1)\n",
    "data01 = standardize(data01)\n",
    "data01 = data01.assign(target = data00['target'])\n",
    "data01.head()"
   ]
  },
  {
   "cell_type": "code",
   "execution_count": 27,
   "metadata": {},
   "outputs": [
    {
     "name": "stdout",
     "output_type": "stream",
     "text": [
      "Training data: (3148, 41)\n",
      "Testing data: (1311, 41)\n"
     ]
    }
   ],
   "source": [
    "# Separar muestras aleatoriamente en 70/30\n",
    "ids = np.random.rand(len(data01)) < 0.7\n",
    "train = data01[ids]\n",
    "test = data01[~ids]\n",
    "print(\"Training data: {}\".format(train.shape))\n",
    "print(\"Testing data: {}\".format(test.shape))"
   ]
  },
  {
   "cell_type": "code",
   "execution_count": 28,
   "metadata": {},
   "outputs": [
    {
     "data": {
      "text/plain": [
       "SVR(C=1.0, cache_size=200, coef0=0.0, degree=3, epsilon=0.1, gamma='auto',\n",
       "  kernel='linear', max_iter=-1, shrinking=True, tol=0.001, verbose=False)"
      ]
     },
     "execution_count": 28,
     "metadata": {},
     "output_type": "execute_result"
    }
   ],
   "source": [
    "from sklearn.svm import SVR as svr\n",
    "\n",
    "# Entrenar el modelo\n",
    "model = svr(kernel='linear')\n",
    "model.fit(train.drop(['target'],axis=1),train['target'])"
   ]
  },
  {
   "cell_type": "code",
   "execution_count": 29,
   "metadata": {},
   "outputs": [
    {
     "name": "stdout",
     "output_type": "stream",
     "text": [
      "RMSLE 1.77\n"
     ]
    }
   ],
   "source": [
    "# Medir la precision del modelo\n",
    "pred = model.predict(test.drop(['target'],axis=1))\n",
    "rmsle = rmsle(np.array(test['target']),pred)\n",
    "print(\"RMSLE\", round(rmsle,2))"
   ]
  }
 ],
 "metadata": {
  "kernelspec": {
   "display_name": "Python 3",
   "language": "python",
   "name": "python3"
  },
  "language_info": {
   "codemirror_mode": {
    "name": "ipython",
    "version": 3
   },
   "file_extension": ".py",
   "mimetype": "text/x-python",
   "name": "python",
   "nbconvert_exporter": "python",
   "pygments_lexer": "ipython3",
   "version": "3.6.3"
  }
 },
 "nbformat": 4,
 "nbformat_minor": 2
}
